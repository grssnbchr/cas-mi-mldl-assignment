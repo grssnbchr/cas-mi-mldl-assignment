{
 "cells": [
  {
   "cell_type": "code",
   "execution_count": null,
   "metadata": {
    "scrolled": true
   },
   "outputs": [],
   "source": [
    "import pandas as pd\n",
    "import numpy as np\n",
    "import math\n",
    "import matplotlib.pyplot as plt\n",
    "import pickle\n",
    "import math\n",
    "import json, codecs # for saving and restoring history\n",
    "import os, sys\n",
    "import graphviz\n",
    "\n",
    "from sklearn.model_selection import train_test_split\n",
    "\n",
    "from autokeras.image.image_supervised import ImageClassifier\n",
    "\n",
    "import keras\n",
    "from keras.models import Sequential\n",
    "from keras.models import load_model\n",
    "from keras.layers import Dense, Dropout, Activation, Flatten, BatchNormalization\n",
    "from keras.layers import Convolution2D, MaxPooling2D\n",
    "from keras.utils import plot_model\n",
    "#from keras.preprocessing.image import ImageDataGenerator\n",
    "#from keras.preprocessing import image\n",
    "#from keras.applications import VGG16\n",
    "#from keras.applications.vgg16 import preprocess_input\n",
    "\n",
    "from sklearn.metrics import classification_report, confusion_matrix, accuracy_score\n"
   ]
  },
  {
   "cell_type": "markdown",
   "metadata": {},
   "source": [
    "## Colab configuration"
   ]
  },
  {
   "cell_type": "code",
   "execution_count": null,
   "metadata": {},
   "outputs": [],
   "source": [
    "try:\n",
    "    import google.colab\n",
    "    IN_COLAB = True\n",
    "except:\n",
    "    IN_COLAB = False\n",
    "\n",
    "if IN_COLAB is True:\n",
    "    from google.colab import drive\n",
    "    drive.mount('/content/gdrive')\n",
    "    os.chdir('/content/gdrive/My Drive/Colab Notebooks')\n",
    "    if not os.path.isdir('DL_Assignment'):\n",
    "        os.mkdir('DL_Assignment')\n",
    "    if not os.path.isdir('DL_Assignment/content'):\n",
    "        os.mkdir('DL_Assignment/content')\n",
    "    os.chdir('DL_Assignment/content')\n",
    "    print(os.getcwd())"
   ]
  },
  {
   "cell_type": "markdown",
   "metadata": {},
   "source": [
    "## Folder configuration"
   ]
  },
  {
   "cell_type": "markdown",
   "metadata": {},
   "source": [
    "### Generate folders, if not existent"
   ]
  },
  {
   "cell_type": "code",
   "execution_count": null,
   "metadata": {},
   "outputs": [],
   "source": [
    "if not os.path.isdir('../data'):\n",
    "    os.mkdir('../data')\n",
    "    \n",
    "if not os.path.isdir('../models'):\n",
    "    os.mkdir('../models')\n",
    "    \n",
    "    \n",
    "if not os.path.isdir('../models/history'):\n",
    "    os.mkdir('../models/history')\n",
    "    \n",
    "if not os.path.isdir('tmp'):\n",
    "    os.mkdir('tmp')  "
   ]
  },
  {
   "cell_type": "markdown",
   "metadata": {},
   "source": [
    "## Utilities"
   ]
  },
  {
   "cell_type": "code",
   "execution_count": null,
   "metadata": {},
   "outputs": [],
   "source": [
    "def create_validation_set(X_train, y_train, fraction=0.5, show_class_balance=True):\n",
    "    \"\"\"\n",
    "    splits the training data into a training and validation set\n",
    "    :param X_train: the features\n",
    "    :param y_train: the one-hot-encoded labels\n",
    "    :param fraction: the fraction of the test set\n",
    "    :return: a tuple (X_train, X_val, y_train, y_val), where the y values are still one-hot-encoded\n",
    "    \"\"\"\n",
    "    # split into train and test\n",
    "    X_train, X_val, y_train, y_val = train_test_split(\n",
    "        X_train,\n",
    "        y_train,\n",
    "        test_size=fraction,\n",
    "        shuffle=True,\n",
    "        random_state=42\n",
    "    )\n",
    "    if show_class_balance is True:\n",
    "        yt = np.argmax(y_train, axis=1)\n",
    "        yv = np.argmax(y_val, axis=1)\n",
    "        # Plot distribution\n",
    "        plt.suptitle('relative distributions of classes in train and validation set')\n",
    "        plot_label_distribution_bar(yt, loc='left')\n",
    "        plot_label_distribution_bar(yv, loc='right')\n",
    "        plt.legend([\n",
    "            'train ({0} photos)'.format(len(y_train)),\n",
    "            'test ({0} photos)'.format(len(y_val))\n",
    "        ])\n",
    "        plt.show()\n",
    "    return X_train, X_val, y_train, y_val\n",
    "\n",
    "\n",
    "def load_train_data(test=False, fraction=1):\n",
    "    \"\"\"\n",
    "    :param test: load test data instead of train data\n",
    "    :param fraction: load only a fraction of the data\n",
    "    :return: the pre-processed X and y data as a tuple of tow numpy array of\n",
    "    shape (sample_size, x, y, channels) and (sample_size, 6), respectively\n",
    "    \"\"\"\n",
    "    X_url = f'../data/deepsat-sat6/X_{\"test\" if test is True else \"train\"}_sat6_small.csv'\n",
    "    y_url = f'../data/deepsat-sat6/y_{\"test\" if test is True else \"train\"}_sat6_small.csv'\n",
    "    # X\n",
    "    row_number = 324000 if test is False else 81000\n",
    "    rows = math.ceil(row_number * fraction)\n",
    "    X_df = pd.read_csv(X_url, header=None, sep=',', nrows=rows)\n",
    "    # unfold\n",
    "    X_np = np.array(X_df)\n",
    "    X_train = X_np.reshape((-1,\n",
    "                            28,\n",
    "                            28,\n",
    "                            4))\n",
    "    y_df = pd.read_csv(y_url, header=None, sep=',', nrows=rows)\n",
    "    y_train = np.array(y_df)\n",
    "    return (X_train, y_train)\n",
    "\n",
    "\n",
    "def get_label(y):\n",
    "    \"\"\"\n",
    "    returns the colloquial label associated with class y\n",
    "    :param y: the one-hot encoded label\n",
    "    :return: the colloquial name of the label\n",
    "    \"\"\"\n",
    "    annotations = pd.read_csv('data/deepsat-sat6/sat6annotations.csv', header=None)\n",
    "    return annotations[annotations[np.argmax(y) + 1] == 1][0].item()\n",
    "\n",
    "\n",
    "# helper function, from https://stackoverflow.com/a/54092401/1477035\n",
    "def saveHist(path,history):\n",
    "\n",
    "    new_hist = {}\n",
    "    for key in list(history.history.keys()):\n",
    "        if type(history.history[key]) == np.ndarray:\n",
    "            new_hist[key] == history.history[key].tolist()\n",
    "        elif type(history.history[key]) == list:\n",
    "           if  type(history.history[key][0]) == np.float64:\n",
    "               new_hist[key] = list(map(float, history.history[key]))\n",
    "\n",
    "    print(new_hist)\n",
    "    with codecs.open(path, 'w', encoding='utf-8') as f:\n",
    "        json.dump(new_hist, f, separators=(',', ':'), sort_keys=True, indent=4) \n",
    "\n",
    "def loadHist(path):\n",
    "    with codecs.open(path, 'r', encoding='utf-8') as f:\n",
    "        n = json.loads(f.read())\n",
    "    return n"
   ]
  },
  {
   "cell_type": "markdown",
   "metadata": {},
   "source": [
    "## Load data"
   ]
  },
  {
   "cell_type": "code",
   "execution_count": null,
   "metadata": {},
   "outputs": [],
   "source": [
    "(X_train, y_train) = load_train_data(test=False, fraction=0.1)\n",
    "X_train, X_val, y_train, y_val = create_validation_set(X_train, y_train, fraction=0.2, show_class_balance=False)"
   ]
  },
  {
   "cell_type": "markdown",
   "metadata": {},
   "source": [
    "### Normalization"
   ]
  },
  {
   "cell_type": "code",
   "execution_count": null,
   "metadata": {},
   "outputs": [],
   "source": [
    "# Normalization over all training images (pixel-wise)\n",
    "X_mean = np.mean(X_train, axis = 0)\n",
    "X_std = np.std(X_train, axis = 0)\n",
    "print(f'Shape of X_mean: {X_mean.shape}')\n",
    "print(f'Shape of X_std: {X_std.shape}')\n",
    "X_train = (X_train - X_mean ) / (X_std + 0.0001)\n",
    "X_val = (X_val - X_mean ) / (X_std + 0.0001)"
   ]
  },
  {
   "cell_type": "markdown",
   "metadata": {},
   "source": [
    "## Try a simple CNN"
   ]
  },
  {
   "cell_type": "markdown",
   "metadata": {},
   "source": [
    "### Model architecture"
   ]
  },
  {
   "cell_type": "code",
   "execution_count": null,
   "metadata": {},
   "outputs": [],
   "source": [
    "name = 'cnn1'\n",
    "model = Sequential()\n",
    "\n",
    "# hyperparameters\n",
    "batch_size = 128\n",
    "nb_classes = 6\n",
    "nb_epochs = 30\n",
    "img_rows, img_cols = 28, 28\n",
    "channels = 4\n",
    "kernel_size = (3, 3)\n",
    "input_shape = (img_rows, img_cols, channels)\n",
    "pool_size = (2, 2)\n",
    "\n",
    "# CNN\n",
    "model.add(Convolution2D(32, kernel_size, padding='same', input_shape=input_shape))\n",
    "model.add(Activation('relu'))\n",
    "model.add(MaxPooling2D(pool_size=pool_size))\n",
    "model.add(Convolution2D(64, kernel_size,padding='same'))\n",
    "model.add(Activation('relu'))\n",
    "model.add(MaxPooling2D(pool_size=pool_size))\n",
    "\n",
    "model.add(Convolution2D(128, kernel_size,padding='same'))\n",
    "model.add(Activation('relu'))\n",
    "model.add(MaxPooling2D(pool_size=pool_size))\n",
    "\n",
    "# FC\n",
    "model.add(Flatten())\n",
    "model.add(Dense(512))\n",
    "model.add(BatchNormalization())\n",
    "model.add(Activation('relu'))\n",
    "model.add(Dense(nb_classes))\n",
    "model.add(Activation('softmax'))\n",
    "\n",
    "# Compilation\n",
    "model.compile(loss='categorical_crossentropy',\n",
    "              optimizer='adam',\n",
    "              metrics=['accuracy'])\n",
    "model.summary()"
   ]
  },
  {
   "cell_type": "markdown",
   "metadata": {},
   "source": [
    "### Train model"
   ]
  },
  {
   "cell_type": "code",
   "execution_count": null,
   "metadata": {},
   "outputs": [],
   "source": [
    "if not os.path.isfile(f'../models/{name}.h5'):\n",
    "    # fit the model\n",
    "    history = model.fit(X_train, y_train, \n",
    "                      batch_size=batch_size, \n",
    "                      epochs=nb_epochs,\n",
    "                      verbose=2, \n",
    "                      validation_data=(X_val, y_val))\n",
    "    # save the model after training\n",
    "    model.save(f'../models/{name}.h5')\n",
    "    # save the history\n",
    "    saveHist(f'../models/history/{name}.json', history)\n",
    "    history = history.history # extract dict\n",
    "else:\n",
    "    # load the history\n",
    "    history = loadHist(f'../models/history/{name}.json')\n",
    "    # load the model\n",
    "    model = load_model(f'../models/{name}.h5')"
   ]
  },
  {
   "cell_type": "markdown",
   "metadata": {},
   "source": [
    "### Evaluate model on validation set"
   ]
  },
  {
   "cell_type": "code",
   "execution_count": null,
   "metadata": {},
   "outputs": [],
   "source": [
    "# summarize history for accuracy\n",
    "plt.plot(history['acc'])\n",
    "plt.plot(history['val_acc'])\n",
    "plt.title('model accuracy')\n",
    "plt.ylabel('accuracy')\n",
    "plt.xlabel('epoch')\n",
    "plt.legend(['train', 'valid'], loc='lower right')\n",
    "plt.show()\n",
    "\n",
    "print('Confusion matrix')\n",
    "pred = model.predict(X_val)\n",
    "accuracy = model.evaluate(X_val, y_val)\n",
    "print(f'validation accuracy according to model.evaluate: {accuracy}')\n",
    "\n",
    "# convert back from one-hot-encoding\n",
    "y_val_old = y_val\n",
    "y_val = np.argmax(y_val, axis=1)\n",
    "pred = np.argmax(pred, axis=1)\n",
    "\n",
    "print(f'validation accuracy according to sklearn.accuracy_score: {accuracy_score(y_val, pred)}')\n",
    "print(classification_report(y_val, pred))"
   ]
  },
  {
   "cell_type": "markdown",
   "metadata": {},
   "source": [
    "## Try auto-keras"
   ]
  },
  {
   "cell_type": "markdown",
   "metadata": {},
   "source": [
    "### Convert back from one-hot encoded"
   ]
  },
  {
   "cell_type": "code",
   "execution_count": null,
   "metadata": {},
   "outputs": [],
   "source": [
    "# NOT NECESSARY FOR AUTOKERAS\n",
    "## flatten everything but the first dimension\n",
    "#def prepare_data(X, y):\n",
    "#    return (X.reshape((-1, np.prod(X.shape[1:]))), np.argmax(y, axis=1))\n",
    "#    \n",
    "#X_train, y_train = prepare_data(X_train, y_train)\n",
    "#X_val, y_val = prepare_data(X_val, y_val)\n",
    "y_val = y_val_old\n",
    "y_train = np.argmax(y_train, axis=1)\n",
    "y_val = np.argmax(y_val, axis=1)"
   ]
  },
  {
   "cell_type": "markdown",
   "metadata": {},
   "source": [
    "### NAS for 3 hours"
   ]
  },
  {
   "cell_type": "code",
   "execution_count": null,
   "metadata": {
    "scrolled": false
   },
   "outputs": [],
   "source": [
    "# maybe use searcher_args={'trainer_args':{'max_iter_num':int}} here for setting the max number of epochs\n",
    "autoclf = ImageClassifier(path='../models/autokeras', verbose=True, augment=False, \n",
    "                          searcher_args={'trainer_args':{'max_iter_num':nb_epochs}} )\n",
    "autoclf.fit(X_train, y_train, time_limit=3 * 60 * 60)\n",
    "autoclf.final_fit(X_train, y_train, X_val, y_val, retrain=True)"
   ]
  },
  {
   "cell_type": "markdown",
   "metadata": {},
   "source": [
    "### Evaluation on validation set"
   ]
  },
  {
   "cell_type": "code",
   "execution_count": null,
   "metadata": {},
   "outputs": [],
   "source": [
    "accuracy = autoclf.evaluate(X_val, y_val)\n",
    "print(f'validation accuracy according to model.evaluate: {accuracy}')\n",
    "\n",
    "best_pred = autoclf.predict(X_val)\n",
    "print(f'validation accuracy according to sklearn.accuracy_score: {accuracy_score(y_val, best_pred)}')\n",
    "print(classification_report(y_val, best_pred))"
   ]
  },
  {
   "cell_type": "markdown",
   "metadata": {},
   "source": [
    "## Evaluate auto-keras best model on test set"
   ]
  },
  {
   "cell_type": "markdown",
   "metadata": {},
   "source": [
    "### Load and normalize data"
   ]
  },
  {
   "cell_type": "code",
   "execution_count": null,
   "metadata": {},
   "outputs": [],
   "source": [
    "X_test, y_test = load_train_data(test=True, fraction=1)\n",
    "# Normalization over all test images with training mean and std\n",
    "X_test = (X_test - X_mean ) / (X_std + 0.0001)\n",
    "# convert back from one-hot-encoding\n",
    "y_test = np.argmax(y_test, axis=1)"
   ]
  },
  {
   "cell_type": "code",
   "execution_count": null,
   "metadata": {},
   "outputs": [],
   "source": [
    "best_pred_test = autoclf.predict(X_test)\n",
    "\n",
    "print(f'test accuracy according to sklearn.accuracy_score: {accuracy_score(y_test, best_pred_test)}')\n",
    "print(classification_report(y_test, best_pred_test))"
   ]
  },
  {
   "cell_type": "markdown",
   "metadata": {},
   "source": [
    "### Visualize auto-keras model"
   ]
  },
  {
   "cell_type": "code",
   "execution_count": null,
   "metadata": {},
   "outputs": [],
   "source": [
    "autoclf.export_autokeras_model('../models/autokeras.h5')\n",
    "autoclf.export_keras_model('../models/autokeras_keras_model.h5')\n",
    "autoclf.load_searcher().load_best_model().produce_keras_model().save('models/autokeras_keras_model_1.h5')\n"
   ]
  },
  {
   "cell_type": "code",
   "execution_count": null,
   "metadata": {},
   "outputs": [],
   "source": [
    "model = load_model('../models/autokeras_keras_model.h5')\n",
    "plot_model(model, to_file='../models/best_autokeras_model.png')"
   ]
  }
 ],
 "metadata": {
  "kernelspec": {
   "display_name": "Python 3",
   "language": "python",
   "name": "python3"
  },
  "language_info": {
   "codemirror_mode": {
    "name": "ipython",
    "version": 3
   },
   "file_extension": ".py",
   "mimetype": "text/x-python",
   "name": "python",
   "nbconvert_exporter": "python",
   "pygments_lexer": "ipython3",
   "version": "3.6.8"
  }
 },
 "nbformat": 4,
 "nbformat_minor": 2
}
